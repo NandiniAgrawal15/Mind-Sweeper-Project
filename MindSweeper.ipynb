{
  "nbformat": 4,
  "nbformat_minor": 0,
  "metadata": {
    "colab": {
      "name": "MindSweeper.ipynb",
      "provenance": [],
      "collapsed_sections": [],
      "authorship_tag": "ABX9TyPcsP/rD7l/4IVftV3I4ezc",
      "include_colab_link": true
    },
    "kernelspec": {
      "name": "python3",
      "display_name": "Python 3"
    },
    "language_info": {
      "name": "python"
    }
  },
  "cells": [
    {
      "cell_type": "markdown",
      "metadata": {
        "id": "view-in-github",
        "colab_type": "text"
      },
      "source": [
        "<a href=\"https://colab.research.google.com/github/NandiniAgrawal15/Upskill_Python_Bootcamp/blob/main/MindSweeper.ipynb\" target=\"_parent\"><img src=\"https://colab.research.google.com/assets/colab-badge.svg\" alt=\"Open In Colab\"/></a>"
      ]
    },
    {
      "cell_type": "code",
      "metadata": {
        "id": "WeXKMv0XKzHW"
      },
      "source": [
        "import random"
      ],
      "execution_count": 3,
      "outputs": []
    },
    {
      "cell_type": "code",
      "metadata": {
        "id": "Md4OBCBF8ewX"
      },
      "source": [
        "from termcolor import colored"
      ],
      "execution_count": 24,
      "outputs": []
    },
    {
      "cell_type": "code",
      "metadata": {
        "id": "qte4TNgEZtyS"
      },
      "source": [
        "def mindSweeper(n,k):\n",
        "  #n is the size of the grid \n",
        "  grid=[[0 for column in range(n)] for row in range(n)]\n",
        "  #k= number of bombs \n",
        "  for i in range(k+1):\n",
        "    x=random.randint(0,n-1)\n",
        "    y=random.randint(0,n-1)\n",
        "    grid[x][y]='\\U0001f4a3'\n",
        "  for row in range(n):\n",
        "    for column in range(n):\n",
        "      if grid[row][column]=='\\U0001f4a3':\n",
        "        if row-1!=-1 and grid[row-1][column]!='\\U0001f4a3':  #lowerGrid\n",
        "          grid[row-1][column]+=1\n",
        "          if column-1!=-1 and grid[row-1][column-1]!='\\U0001f4a3':\n",
        "            grid[row-1][column-1]+=1\n",
        "          #grid[row][column-1]+=1\n",
        "          if column+1!=n and grid[row-1][column+1]!='\\U0001f4a3' :\n",
        "            grid[row-1][column+1]+=1\n",
        "          #grid[row][column+1]+=1\n",
        "        if row+1!=n and grid[row+1][column]!='\\U0001f4a3':#upper grid\n",
        "          grid[row+1][column]+=1\n",
        "          if column-1!=-1 and grid[row+1][column-1]!='\\U0001f4a3':\n",
        "            grid[row+1][column-1]+=1\n",
        "          if column+1!=n and grid[row+1][column+1]!='\\U0001f4a3':\n",
        "            grid[row+1][column+1]+=1\n",
        "        if column-1!=-1 and grid[row][column-1]!='\\U0001f4a3':\n",
        "            grid[row][column-1]+=1\n",
        "        if column+1!=n and grid[row][column+1]!='\\U0001f4a3':\n",
        "            grid[row][column+1]+=1\n",
        "  return grid\n",
        "\n",
        "def generatePlayerGrid(n):\n",
        "  arr=[[\"~\"for column in range(n)]for row in range(n)]\n",
        "  return arr\n",
        "\n",
        "\n",
        "def displayMap(Map):\n",
        "  for row in range(len(Map)):\n",
        "    for column in range(len(Map[row])):\n",
        "      print(Map[row][column],end=' ')\n",
        "    print('\\n')\n",
        "\n",
        "def checkPlaying(grid1):\n",
        "  for row in range(len(grid1)):\n",
        "    for column in range(len(grid1[row])):\n",
        "      if grid1[row][column]=='~':\n",
        "        return True\n",
        "  return False   \n",
        "\n",
        "def checKContinuePlay(score):\n",
        "  print(colored(f\"Your Score {score}\",\"red\"))\n",
        "  print(colored(\"Do you want to continue!\",\"red\"))\n",
        "  print(\"1. YES\")\n",
        "  print(\"0. NO \")\n",
        "  n=int(input())\n",
        "  if n==1:\n",
        "    return True\n",
        "  print(colored(\"Thanks for playing !\",\"green\"))\n",
        "  return False\n",
        "\n",
        "\n",
        "def Game():\n",
        "  print(colored(\"Hi ! I am MindSweeper\",\"blue\"))\n",
        "  print(colored(\"May ,I know your name\",\"magenta\"))\n",
        "  name=input()\n",
        "  print(colored(f\"Welcome ! {name}\",\"cyan\"))\n",
        "  print(colored(\"Which difficulty level would you like to play\",'yellow'))\n",
        "  print(\"1. Beginner\")\n",
        "  print(\"2. Moderate\")\n",
        "  print(\"3. Hard\")\n",
        "  print(\"4. End\")\n",
        "  n=int(input())\n",
        "  gameStatus=True\n",
        "  while gameStatus:\n",
        "    if n==1:\n",
        "      grid_size=3\n",
        "      bomb=5\n",
        "    elif n==2:\n",
        "      grid_size=6\n",
        "      bomb=12\n",
        "    elif n==3:\n",
        "      grid_size=8\n",
        "      bomb=20\n",
        "    elif n==4:\n",
        "      break\n",
        "    else:\n",
        "      print(\"Wrong Choice!\")\n",
        "      continue\n",
        "    mind=mindSweeper(grid_size,bomb)\n",
        "    player_grid=generatePlayerGrid(grid_size)\n",
        "    score=0\n",
        "    while 1:\n",
        "      if checkPlaying(player_grid):\n",
        "        choice =int(input(colored(\"1.Open a cell \\n2.Flag a cell\\n\",\"cyan\")))\n",
        "        if choice==1:\n",
        "          print(\"\\033[1;33;10mChoose a cell which you want to open\")\n",
        "          x=int(input(colored(f\"Enter a number in the range 0 to {grid_size-1} \",\"green\")))\n",
        "          y=int(input(colored(f\"Enter a number in the range 0 to {grid_size-1} \",\"green\")))\n",
        "          if mind[x][y]=='\\U0001f4a3':\n",
        "            print(\"Game Over!\")\n",
        "            displayMap(mind)\n",
        "            \n",
        "            gameStatus=checKContinuePlay(score)\n",
        "            break\n",
        "          else:\n",
        "            player_grid[x][y]=mind[x][y]\n",
        "            displayMap(player_grid)\n",
        "            score+=1\n",
        "        else:\n",
        "          print(\"\\033[1;31;10mChoose a cell which you want to flag\")\n",
        "          x=int(input(colored(f\"Enter a number in the range 0 to {grid_size-1} \",\"yellow\")))\n",
        "          y=int(input(colored(f\"Enter a number in the range 0 to {grid_size-1} \",\"yellow\")))\n",
        "          player_grid[x][y]='\\U0001f4a3'\n",
        "          displayMap(player_grid)\n",
        "          break\n",
        "          \n",
        "      elif mind==player_grid:\n",
        "        print(\"You won!\")\n",
        "\n",
        "        gameStatus=checKContinuePlay(score)\n",
        "        break\n",
        "      else:\n",
        "        print(\"Game Over !\")\n",
        "        displayMap(mind)\n",
        "        gameStatus=checKContinuePlay(score)\n",
        "        break"
      ],
      "execution_count": 76,
      "outputs": []
    },
    {
      "cell_type": "code",
      "metadata": {
        "id": "Y-yqpCnl5-oy"
      },
      "source": [
        "Game()"
      ],
      "execution_count": null,
      "outputs": []
    }
  ]
}