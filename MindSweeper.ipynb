{
  "nbformat": 4,
  "nbformat_minor": 0,
  "metadata": {
    "colab": {
      "name": "MindSweeper.ipynb",
      "provenance": [],
      "collapsed_sections": [],
      "authorship_tag": "ABX9TyNE8cQv+X/yiTS2tHLjGZRV",
      "include_colab_link": true
    },
    "kernelspec": {
      "name": "python3",
      "display_name": "Python 3"
    },
    "language_info": {
      "name": "python"
    }
  },
  "cells": [
    {
      "cell_type": "markdown",
      "metadata": {
        "id": "view-in-github",
        "colab_type": "text"
      },
      "source": [
        "<a href=\"https://colab.research.google.com/github/NandiniAgrawal15/Upskill_Python_Bootcamp/blob/main/MindSweeper.ipynb\" target=\"_parent\"><img src=\"https://colab.research.google.com/assets/colab-badge.svg\" alt=\"Open In Colab\"/></a>"
      ]
    },
    {
      "cell_type": "code",
      "metadata": {
        "id": "WeXKMv0XKzHW"
      },
      "source": [
        "import random"
      ],
      "execution_count": 2,
      "outputs": []
    },
    {
      "cell_type": "code",
      "metadata": {
        "id": "VXD0VC2WKB5Y"
      },
      "source": [
        "def mindSweeper(n,k):\n",
        "  #n is the size of the grid \n",
        "  grid=[[0 for column in range(n)] for row in range(n)]\n",
        "  #k= number of bombs \n",
        "  for i in range(k):\n",
        "    x=random.randint(0,n-1)\n",
        "    y=random.randint(0,n-1)\n",
        "    grid[x][y]='\\U0001f4a3'\n",
        "  return grid"
      ],
      "execution_count": 3,
      "outputs": []
    },
    {
      "cell_type": "code",
      "metadata": {
        "id": "vvaxmwQqKd0e"
      },
      "source": [
        "def generatePlayerGrid(n):\n",
        "  arr=[[\"\"for column in range(n+1)]for row in range(n)]\n",
        "  for row in arr:\n",
        "    print(\"~\".join(str(cell) for cell in row))\n",
        "    print(\" \")"
      ],
      "execution_count": 4,
      "outputs": []
    },
    {
      "cell_type": "code",
      "metadata": {
        "id": "YY9P4JXcLN-s"
      },
      "source": [
        "def displayMap(Map):\n",
        "  for row in range(len(Map)):\n",
        "    for column in range(len(Map[row])):\n",
        "      print(Map[row][column],end=' ')\n",
        "    print('\\n')"
      ],
      "execution_count": 5,
      "outputs": []
    },
    {
      "cell_type": "code",
      "metadata": {
        "id": "hF4Nn1erLzLU"
      },
      "source": [
        ""
      ],
      "execution_count": 7,
      "outputs": []
    },
    {
      "cell_type": "code",
      "metadata": {
        "id": "bL0A4UVgL3aA",
        "colab": {
          "base_uri": "https://localhost:8080/"
        },
        "outputId": "670cfe87-4c54-4a98-db8b-9f1258860c87"
      },
      "source": [
        "displayMap(grid)"
      ],
      "execution_count": 8,
      "outputs": [
        {
          "output_type": "stream",
          "text": [
            "0 0 0 💣 0 \n",
            "\n",
            "0 0 0 0 0 \n",
            "\n",
            "0 0 0 0 0 \n",
            "\n",
            "0 💣 💣 0 💣 \n",
            "\n",
            "0 0 0 0 0 \n",
            "\n"
          ],
          "name": "stdout"
        }
      ]
    },
    {
      "cell_type": "code",
      "metadata": {
        "id": "qHNOjq0uN2u7"
      },
      "source": [
        "def checkPlaying(grid):\n",
        "  for row in range(len(grid)):\n",
        "    for column in range(len(grid[row])):\n",
        "      if grid[row][column]=='~':\n",
        "        return True\n",
        "  return False"
      ],
      "execution_count": null,
      "outputs": []
    },
    {
      "cell_type": "code",
      "metadata": {
        "id": "szIwaWmjP6KT"
      },
      "source": [
        "def changeGrid(n):\n",
        "  for row in range(n):\n",
        "    for column in range(n):\n",
        "      if grid[row][column]=='\\U0001f4a3':\n",
        "        if row-1!=-1 and grid[row-1][column]!='\\U0001f4a3':  #lowerGrid\n",
        "          grid[row-1][column]+=1\n",
        "          if column-1!=-1 and grid[row-1][column-1]!='\\U0001f4a3':\n",
        "            grid[row-1][column-1]+=1\n",
        "          #grid[row][column-1]+=1\n",
        "          if column+1!=n and grid[row-1][column+1]!='\\U0001f4a3' :\n",
        "            grid[row-1][column+1]+=1\n",
        "          #grid[row][column+1]+=1\n",
        "        if row+1!=n and grid[row+1][column]!='\\U0001f4a3':#upper grid\n",
        "          grid[row+1][column]+=1\n",
        "          if column-1!=-1 and grid[row+1][column-1]!='\\U0001f4a3':\n",
        "            grid[row+1][column-1]+=1\n",
        "          if column+1!=n and grid[row+1][column+1]!='\\U0001f4a3':\n",
        "            grid[row+1][column+1]+=1\n",
        "        if column-1!=-1 and grid[row][column-1]!='\\U0001f4a3':\n",
        "            grid[row][column-1]+=1\n",
        "        if column+1!=n and grid[row][column+1]!='\\U0001f4a3':\n",
        "            grid[row][column+1]+=1"
      ],
      "execution_count": null,
      "outputs": []
    },
    {
      "cell_type": "code",
      "metadata": {
        "id": "wBMI4Ex2Q9O-"
      },
      "source": [
        "changeGrid(5)\n",
        "displayMap(grid)"
      ],
      "execution_count": null,
      "outputs": []
    },
    {
      "cell_type": "code",
      "metadata": {
        "id": "V3yGmQhuRAlq"
      },
      "source": [
        "ans=checkPlaying(grid)\n",
        "print(ans)"
      ],
      "execution_count": null,
      "outputs": []
    },
    {
      "cell_type": "code",
      "metadata": {
        "id": "KBhR6m0rZs-u"
      },
      "source": [
        "\n"
      ],
      "execution_count": null,
      "outputs": []
    },
    {
      "cell_type": "code",
      "metadata": {
        "id": "qte4TNgEZtyS"
      },
      "source": [
        "def mindSweeper(n,k):\n",
        "  #n is the size of the grid \n",
        "  grid=[[0 for column in range(n)] for row in range(n)]\n",
        "  #k= number of bombs \n",
        "  for i in range(k):\n",
        "    x=random.randint(0,n-1)\n",
        "    y=random.randint(0,n-1)\n",
        "    grid[x][y]='\\U0001f4a3'\n",
        "  return grid\n",
        "\n",
        "\n",
        "def changeGrid(n):\n",
        "  for row in range(n):\n",
        "    for column in range(n):\n",
        "      if grid[row][column]=='\\U0001f4a3':\n",
        "        if row-1!=-1 and grid[row-1][column]!='\\U0001f4a3':  #lowerGrid\n",
        "          grid[row-1][column]+=1\n",
        "          if column-1!=-1 and grid[row-1][column-1]!='\\U0001f4a3':\n",
        "            grid[row-1][column-1]+=1\n",
        "          #grid[row][column-1]+=1\n",
        "          if column+1!=n and grid[row-1][column+1]!='\\U0001f4a3' :\n",
        "            grid[row-1][column+1]+=1\n",
        "          #grid[row][column+1]+=1\n",
        "        if row+1!=n and grid[row+1][column]!='\\U0001f4a3':#upper grid\n",
        "          grid[row+1][column]+=1\n",
        "          if column-1!=-1 and grid[row+1][column-1]!='\\U0001f4a3':\n",
        "            grid[row+1][column-1]+=1\n",
        "          if column+1!=n and grid[row+1][column+1]!='\\U0001f4a3':\n",
        "            grid[row+1][column+1]+=1\n",
        "        if column-1!=-1 and grid[row][column-1]!='\\U0001f4a3':\n",
        "            grid[row][column-1]+=1\n",
        "        if column+1!=n and grid[row][column+1]!='\\U0001f4a3':\n",
        "            grid[row][column+1]+=1\n",
        "  return grid\n",
        "\n",
        "def generatePlayerGrid(n):\n",
        "  arr=[[\"\"for column in range(n+1)]for row in range(n)]\n",
        "  for row in arr:\n",
        "    print(\"~\".join(str(cell) for cell in row))\n",
        "    print(\" \")\n",
        "  return arr\n",
        "\n",
        "\n",
        "def displayMap(Map):\n",
        "  for row in range(len(Map)):\n",
        "    for column in range(len(Map[row])):\n",
        "      print(Map[row][column],end=' ')\n",
        "    print('\\n')\n",
        "\n",
        "def checkPlaying(grid):\n",
        "  for row in range(len(grid)):\n",
        "    for column in range(len(grid[row])):\n",
        "      if grid[row][column]=='~':\n",
        "        return True\n",
        "  return False   \n",
        "\n",
        "def checKContinuePlay(score):\n",
        "  print(\"Your Score \",score)\n",
        "  iscontinue=input(\"Do you want to play y/n\")\n",
        "  if iscontinue=='n':\n",
        "    return False\n",
        "  return True\n",
        "\n",
        "\n",
        "def Game():\n",
        "  print(\"Hi ! I am MindSweeper\")\n",
        "  print(\"May ,I know your name\")\n",
        "  name=input()\n",
        "  print(\"Welcome ! \",name)\n",
        "  print(\"Which difficulty level would you like to play\")\n",
        "  print(\"1. Beginner\")\n",
        "  print(\"2. Moderate\")\n",
        "  print(\"3. Hard\")\n",
        "  print(\"4. End\")\n",
        "  gameStatus=True\n",
        "  while gameStatus:\n",
        "    n=int(input())\n",
        "    if n==1:\n",
        "      grid_size=5\n",
        "      bomb=5\n",
        "    elif n==2:\n",
        "      grid_size=6\n",
        "      bomb=4\n",
        "    elif n==3:\n",
        "      grid_size=8\n",
        "      bomb=5\n",
        "    elif n==4:\n",
        "      break\n",
        "    else:\n",
        "      print(\"Wrong Choice!\")\n",
        "      continue\n",
        "  mind=mindSweeper(grid_size,bomb)\n",
        "  mind=changegrid(grid_size)\n",
        "  player_grid=generatePlayerGrid(grid_size)\n",
        "  choice =int(input(\"Choose 1. Open a cell \\n2.Flag a cell\"))\n",
        "  if choice==1:\n",
        "    score=0\n",
        "    x=input(\"Enter a number in the range 0 to \",grid-size-1)\n",
        "    y=input(\"Enter a number in the range 0 to \",grid-size-1)\n",
        "    if mind[x][y]=='\\U0001f4a3':\n",
        "      break\n",
        "    elif checkPlaying(player_grid)==False:\n",
        "      checKContinuePlay(score)\n",
        "    else:\n",
        "      score+=1\n",
        "  elif choice==2:\n",
        "    "
      ],
      "execution_count": 1,
      "outputs": []
    },
    {
      "cell_type": "code",
      "metadata": {
        "id": "eY8CVQWmkguR"
      },
      "source": [
        ""
      ],
      "execution_count": null,
      "outputs": []
    }
  ]
}